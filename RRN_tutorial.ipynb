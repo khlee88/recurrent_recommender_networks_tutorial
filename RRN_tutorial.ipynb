{
 "cells": [
  {
   "cell_type": "code",
   "execution_count": 1,
   "metadata": {
    "collapsed": true
   },
   "outputs": [],
   "source": [
    "import tensorflow as tf\n",
    "import pandas as pd\n",
    "import numpy as np\n",
    "import sys"
   ]
  },
  {
   "cell_type": "markdown",
   "metadata": {},
   "source": [
    "## Preprocessing"
   ]
  },
  {
   "cell_type": "code",
   "execution_count": 2,
   "metadata": {
    "collapsed": true
   },
   "outputs": [],
   "source": [
    "## RRN params\n",
    "batch_size = 50\n",
    "hidden_size = 128\n",
    "out_size = 64\n",
    "n_step = 1\n",
    "lr = 0.01\n",
    "verbose = 10\n",
    "\n",
    "dataName = 'ml-1m'\n",
    "dataPath = \"data/\" + dataName + \"/\""
   ]
  },
  {
   "cell_type": "code",
   "execution_count": 3,
   "metadata": {},
   "outputs": [
    {
     "data": {
      "text/html": [
       "<div>\n",
       "<style scoped>\n",
       "    .dataframe tbody tr th:only-of-type {\n",
       "        vertical-align: middle;\n",
       "    }\n",
       "\n",
       "    .dataframe tbody tr th {\n",
       "        vertical-align: top;\n",
       "    }\n",
       "\n",
       "    .dataframe thead th {\n",
       "        text-align: right;\n",
       "    }\n",
       "</style>\n",
       "<table border=\"1\" class=\"dataframe\">\n",
       "  <thead>\n",
       "    <tr style=\"text-align: right;\">\n",
       "      <th></th>\n",
       "      <th>UserID</th>\n",
       "      <th>MovieID</th>\n",
       "      <th>Rating</th>\n",
       "      <th>TimeStamp</th>\n",
       "    </tr>\n",
       "  </thead>\n",
       "  <tbody>\n",
       "    <tr>\n",
       "      <th>1000138</th>\n",
       "      <td>6040</td>\n",
       "      <td>858</td>\n",
       "      <td>4</td>\n",
       "      <td>956703932</td>\n",
       "    </tr>\n",
       "    <tr>\n",
       "      <th>1000153</th>\n",
       "      <td>6040</td>\n",
       "      <td>2384</td>\n",
       "      <td>4</td>\n",
       "      <td>956703954</td>\n",
       "    </tr>\n",
       "    <tr>\n",
       "      <th>999873</th>\n",
       "      <td>6040</td>\n",
       "      <td>593</td>\n",
       "      <td>5</td>\n",
       "      <td>956703954</td>\n",
       "    </tr>\n",
       "    <tr>\n",
       "      <th>1000007</th>\n",
       "      <td>6040</td>\n",
       "      <td>1961</td>\n",
       "      <td>4</td>\n",
       "      <td>956703977</td>\n",
       "    </tr>\n",
       "    <tr>\n",
       "      <th>1000192</th>\n",
       "      <td>6040</td>\n",
       "      <td>2019</td>\n",
       "      <td>5</td>\n",
       "      <td>956703977</td>\n",
       "    </tr>\n",
       "  </tbody>\n",
       "</table>\n",
       "</div>"
      ],
      "text/plain": [
       "         UserID  MovieID  Rating  TimeStamp\n",
       "1000138    6040      858       4  956703932\n",
       "1000153    6040     2384       4  956703954\n",
       "999873     6040      593       5  956703954\n",
       "1000007    6040     1961       4  956703977\n",
       "1000192    6040     2019       5  956703977"
      ]
     },
     "execution_count": 3,
     "metadata": {},
     "output_type": "execute_result"
    }
   ],
   "source": [
    "## getRatingInfo\n",
    "dataPath = dataPath + \"ratings.dat\"\n",
    "\n",
    "ratings_title = ['UserID', 'MovieID', 'Rating', 'TimeStamp']\n",
    "ratings = pd.read_table(dataPath, sep='::', header=None, names=ratings_title, engine='python')\n",
    "ratings = ratings.sort_values(by=['TimeStamp'])\n",
    "ratings[:5]"
   ]
  },
  {
   "cell_type": "code",
   "execution_count": 4,
   "metadata": {},
   "outputs": [],
   "source": [
    "train = ratings.values\n",
    "\n",
    "num_users = max(train[:,0])\n",
    "num_movies = max(train[:,1])"
   ]
  },
  {
   "cell_type": "markdown",
   "metadata": {},
   "source": [
    "## Prepare Model"
   ]
  },
  {
   "cell_type": "code",
   "execution_count": 5,
   "metadata": {
    "collapsed": true
   },
   "outputs": [],
   "source": [
    "## placeholder\n",
    "userID = tf.placeholder(tf.int32, shape=[None, 1], name=\"userID\")\n",
    "movieID = tf.placeholder(tf.int32, shape=[None, 1], name=\"movieID\")\n",
    "rating = tf.placeholder(tf.float32, shape=[None, 1], name=\"rating\")\n",
    "dropout = tf.placeholder(tf.float32, name='dropout')"
   ]
  },
  {
   "cell_type": "code",
   "execution_count": 6,
   "metadata": {},
   "outputs": [],
   "source": [
    "## user and movie embedding layer & lookup\n",
    "### user, movie 각각 embedding matirx를 생성하고, 각 ID에 lookup 후 relu activation을 취한다.\n",
    "### uid_layer & mid_layer shape: [None, 1, hidden_size]\n",
    "with tf.variable_scope(\"userID_embedding\", reuse=tf.AUTO_REUSE):\n",
    "    # user id embedding\n",
    "    Embedding_User = tf.get_variable(name=\"embedding_users\", shape=[num_users, hidden_size],\n",
    "                                    initializer=tf.glorot_uniform_initializer())\n",
    "    uid_layer = tf.nn.embedding_lookup(Embedding_User, userID)\n",
    "    uid_layer = tf.nn.relu(uid_layer)\n",
    "    \n",
    "with tf.variable_scope(\"movie_embedding\", reuse=tf.AUTO_REUSE):\n",
    "    # movie id embedding\n",
    "    Embedding_Item = tf.get_variable(name=\"embedding_items\", shape=[num_movies, hidden_size],\n",
    "                                    initializer=tf.glorot_uniform_initializer())\n",
    "    mid_layer = tf.nn.embedding_lookup(Embedding_Item, movieID)\n",
    "    mid_layer = tf.nn.relu(mid_layer)"
   ]
  },
  {
   "cell_type": "code",
   "execution_count": 7,
   "metadata": {},
   "outputs": [],
   "source": [
    "## feedfoward to rnn_layer\n",
    "### input에 transepose [1, 0, 2]를 하면, input shape은 [1, None, hidden_size]로 변환된다.\n",
    "### None은 batch_size 또는 입력 데이터 크기이고, RNN model에서 RNN size가 된다.\n",
    "### 즉, RNN size가 달라질 수 있으므로, dynamic_rnn 모듈에 넣어준다.\n",
    "### 과거(학습 시작점)부터 user의 시간 순서 item의 시간 순서에 대하여 각각의 output을 계산하므로,\n",
    "### 최근 업데이트 시점에서 user 및 item에 대한 최근 트랜드가 반영될 것으로 생각된다.\n",
    "with tf.variable_scope(\"user_rnn_cell\", reuse=tf.AUTO_REUSE):\n",
    "    userCell = tf.nn.rnn_cell.GRUCell(num_units=hidden_size)\n",
    "    userInput = tf.transpose(uid_layer, [1, 0, 2])\n",
    "    userOutputs, userStates = tf.nn.dynamic_rnn(userCell, userInput, dtype=tf.float32)\n",
    "    userOutput = userOutputs[-1]\n",
    "    \n",
    "with tf.variable_scope(\"movie_rnn_cell\", reuse=tf.AUTO_REUSE):\n",
    "    movieCell = tf.nn.rnn_cell.GRUCell(num_units=hidden_size)\n",
    "    movieInput = tf.transpose(mid_layer, [1, 0, 2])\n",
    "    movieOutputs, movieStates = tf.nn.dynamic_rnn(movieCell, movieInput, dtype=tf.float32)\n",
    "    movieOutput = movieOutputs[-1]"
   ]
  },
  {
   "cell_type": "code",
   "execution_count": 8,
   "metadata": {
    "collapsed": true
   },
   "outputs": [],
   "source": [
    "## predict ratings\n",
    "### user, movie 각 rnn output에서 fullyConnect를 통해 final output vector를 구한다.\n",
    "### user, movie final vector의 곱의 합(즉, 내적)을 최종 예측 rating 값으로 정의한다.\n",
    "with tf.variable_scope(\"pred_layer\", reuse=tf.AUTO_REUSE):\n",
    "    userVector = tf.layers.dense(userOutput, out_size, activation=None)\n",
    "    movieVector = tf.layers.dense(movieOutput, out_size, activation=None)\n",
    "    pred = tf.reduce_sum(tf.multiply(userVector, movieVector), axis=1, keepdims=True)"
   ]
  },
  {
   "cell_type": "code",
   "execution_count": 9,
   "metadata": {
    "collapsed": true
   },
   "outputs": [],
   "source": [
    "## loss & optimizer\n",
    "### mean squared error와 adam optimizer를 수행한다.\n",
    "loss = tf.reduce_mean(\n",
    "    tf.losses.mean_squared_error(rating, pred)\n",
    ")\n",
    "optimizer = tf.train.AdamOptimizer(lr).minimize(loss)"
   ]
  },
  {
   "cell_type": "markdown",
   "metadata": {},
   "source": [
    "## Training"
   ]
  },
  {
   "cell_type": "code",
   "execution_count": 10,
   "metadata": {
    "collapsed": true
   },
   "outputs": [],
   "source": [
    "## session start\n",
    "#config = tf.ConfigProto()\n",
    "#config.gpu_options.allow_growth = True\n",
    "#config.allow_soft_placement = True\n",
    "#tf.Session(config=self.config) <-- gpu mode\n",
    "sess = tf.Session() \n",
    "sess.run(tf.global_variables_initializer())"
   ]
  },
  {
   "cell_type": "code",
   "execution_count": 11,
   "metadata": {},
   "outputs": [
    {
     "name": "stdout",
     "output_type": "stream",
     "text": [
      "20000 / 20005： loss = 0.9554230570793152Training Finish, Last 2000 batches loss is 0.9868500232696533.\n"
     ]
    }
   ],
   "source": [
    "## training\n",
    "length = len(train)\n",
    "batches = length // batch_size + 1\n",
    "\n",
    "train_loss = []\n",
    "for i in range(batches):\n",
    "    minIdx = i * batch_size\n",
    "    maxIdx = min(length, (i+1)*batch_size)\n",
    "    train_batch = train[minIdx:maxIdx]\n",
    "    ### raw data의 user, item id가 1부터 시작하므로 -1을 한다.\n",
    "    inputs = np.array([(i[0]-1, i[1]-1, float(i[2])) for i in train_batch])\n",
    "    feed_dict = {userID: np.expand_dims(inputs[:,0], 1), \n",
    "                 movieID: np.expand_dims(inputs[:,1], 1), \n",
    "                 rating: np.expand_dims(inputs[:,2], 1), dropout: 1.}\n",
    "\n",
    "    _, batch_loss = sess.run([optimizer, loss], feed_dict=feed_dict)\n",
    "    train_loss.append(batch_loss)\n",
    "\n",
    "    ### 최근 20개 batch_loss의 평균을 프린트한다.\n",
    "    if verbose and i % verbose == 0:\n",
    "        sys.stdout.write('\\r{} / {}： loss = {}'.format(\n",
    "            i, batches, np.sqrt(np.mean(train_loss[-20:]))\n",
    "        ))\n",
    "        sys.stdout.flush()\n",
    "\n",
    "### 최근 2000개 loss의 평균을 프린트한다.\n",
    "print(\"Training Finish, Last 2000 batches loss is {}.\".format(\n",
    "    np.sqrt(np.mean(train_loss[-2000:]))\n",
    "))"
   ]
  },
  {
   "cell_type": "code",
   "execution_count": 87,
   "metadata": {},
   "outputs": [
    {
     "data": {
      "text/html": [
       "<div>\n",
       "<style scoped>\n",
       "    .dataframe tbody tr th:only-of-type {\n",
       "        vertical-align: middle;\n",
       "    }\n",
       "\n",
       "    .dataframe tbody tr th {\n",
       "        vertical-align: top;\n",
       "    }\n",
       "\n",
       "    .dataframe thead th {\n",
       "        text-align: right;\n",
       "    }\n",
       "</style>\n",
       "<table border=\"1\" class=\"dataframe\">\n",
       "  <thead>\n",
       "    <tr style=\"text-align: right;\">\n",
       "      <th></th>\n",
       "      <th>act</th>\n",
       "      <th>pred</th>\n",
       "    </tr>\n",
       "  </thead>\n",
       "  <tbody>\n",
       "    <tr>\n",
       "      <th>0</th>\n",
       "      <td>5.0</td>\n",
       "      <td>4.344459</td>\n",
       "    </tr>\n",
       "    <tr>\n",
       "      <th>1</th>\n",
       "      <td>4.0</td>\n",
       "      <td>4.419746</td>\n",
       "    </tr>\n",
       "    <tr>\n",
       "      <th>2</th>\n",
       "      <td>5.0</td>\n",
       "      <td>3.846145</td>\n",
       "    </tr>\n",
       "    <tr>\n",
       "      <th>3</th>\n",
       "      <td>5.0</td>\n",
       "      <td>4.287585</td>\n",
       "    </tr>\n",
       "    <tr>\n",
       "      <th>4</th>\n",
       "      <td>5.0</td>\n",
       "      <td>3.925497</td>\n",
       "    </tr>\n",
       "  </tbody>\n",
       "</table>\n",
       "</div>"
      ],
      "text/plain": [
       "   act      pred\n",
       "0  5.0  4.344459\n",
       "1  4.0  4.419746\n",
       "2  5.0  3.846145\n",
       "3  5.0  4.287585\n",
       "4  5.0  3.925497"
      ]
     },
     "execution_count": 87,
     "metadata": {},
     "output_type": "execute_result"
    }
   ],
   "source": [
    "## last 1000 evaluation\n",
    "### 최근 1000개의 데이터로 예측을 수행하고 Dataframe으로 만든다.\n",
    "train_batch = train[-1000:]\n",
    "inputs = np.array([(i[0]-1, i[1]-1, float(i[2])) for i in train_batch])\n",
    "feed_dict = {userID: np.expand_dims(inputs[:,0], 1), \n",
    "             movieID: np.expand_dims(inputs[:,1], 1), \n",
    "             rating: np.expand_dims(inputs[:,2], 1), dropout: 1.}\n",
    "\n",
    "p = sess.run(pred, feed_dict=feed_dict)\n",
    "dt = pd.DataFrame({'act': inputs[:,2], 'pred': p.reshape(-1)})\n",
    "dt[:5]"
   ]
  },
  {
   "cell_type": "code",
   "execution_count": 88,
   "metadata": {},
   "outputs": [
    {
     "name": "stdout",
     "output_type": "stream",
     "text": [
      "last 1000 evaluation\n",
      "rmse: 0.8654721555151278 mae: 0.7396353408098221 mape: 27.624654208421706\n"
     ]
    }
   ],
   "source": [
    "#### rmse, mae, mape 각 지표를 계산한다.\n",
    "a = dt['act'].values - dt['pred'].values\n",
    "rmse = np.mean(np.power(a, 2))\n",
    "mae = np.mean(np.abs(a))\n",
    "mape = np.mean(np.abs(a/dt['act'].values))*100\n",
    "print(\"last 1000 evaluation\")\n",
    "print(\"rmse:\", rmse, \"mae:\", mae, \"mape:\", mape)"
   ]
  }
 ],
 "metadata": {
  "kernelspec": {
   "display_name": "Python 3",
   "language": "python",
   "name": "python3"
  },
  "language_info": {
   "codemirror_mode": {
    "name": "ipython",
    "version": 3
   },
   "file_extension": ".py",
   "mimetype": "text/x-python",
   "name": "python",
   "nbconvert_exporter": "python",
   "pygments_lexer": "ipython3",
   "version": "3.5.2"
  }
 },
 "nbformat": 4,
 "nbformat_minor": 2
}
